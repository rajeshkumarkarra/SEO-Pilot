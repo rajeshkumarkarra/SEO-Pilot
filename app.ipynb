{
 "cells": [
  {
   "cell_type": "code",
   "execution_count": 1,
   "id": "4c0959d7",
   "metadata": {},
   "outputs": [],
   "source": [
    "from typing import TypedDict, Literal\n",
    "class portfolioState(TypedDict):\n",
    "  amount_usd: float\n",
    "  target_currency: Literal[\"INR\", \"EUR\"]\n",
    "  total_usd: float\n",
    "  total: float"
   ]
  },
  {
   "cell_type": "code",
   "execution_count": 2,
   "id": "1499f312",
   "metadata": {},
   "outputs": [],
   "source": [
    "def cal_total(state:portfolioState) -> portfolioState:\n",
    "  state[\"total_usd\"] = state[\"amount_usd\"] * 1.08\n",
    "  return state\n",
    "\n",
    "\n",
    "def convert_to_inr(state:portfolioState) -> portfolioState:\n",
    "  state[\"total\"] = state[\"total_usd\"] * 85\n",
    "  return state\n",
    "\n",
    "def convert_to_eur(state: portfolioState) -> portfolioState:\n",
    "  state[\"total\"] = state[\"total_usd\"] * 95\n",
    "  return state\n",
    "\n",
    "def choose_conversion(state: portfolioState) -> str:\n",
    "  return state[\"target_currency\"]\n"
   ]
  },
  {
   "cell_type": "code",
   "execution_count": 4,
   "id": "417dbcec",
   "metadata": {},
   "outputs": [
    {
     "ename": "ModuleNotFoundError",
     "evalue": "No module named 'langgraph'",
     "output_type": "error",
     "traceback": [
      "\u001b[31m---------------------------------------------------------------------------\u001b[39m",
      "\u001b[31mModuleNotFoundError\u001b[39m                       Traceback (most recent call last)",
      "\u001b[36mCell\u001b[39m\u001b[36m \u001b[39m\u001b[32mIn[4]\u001b[39m\u001b[32m, line 1\u001b[39m\n\u001b[32m----> \u001b[39m\u001b[32m1\u001b[39m \u001b[38;5;28;01mfrom\u001b[39;00m\u001b[38;5;250m \u001b[39m\u001b[34;01mlanggraph\u001b[39;00m\u001b[34;01m.\u001b[39;00m\u001b[34;01mgraph\u001b[39;00m\u001b[38;5;250m \u001b[39m\u001b[38;5;28;01mimport\u001b[39;00m StateGraph, START, END\n\u001b[32m      2\u001b[39m builder = StateGraph(portfolioState)\n\u001b[32m      4\u001b[39m builder.add_node(\u001b[33m\"\u001b[39m\u001b[33mcal_total_node\u001b[39m\u001b[33m\"\u001b[39m, cal_total)\n",
      "\u001b[31mModuleNotFoundError\u001b[39m: No module named 'langgraph'"
     ]
    }
   ],
   "source": [
    "from langgraph.graph import StateGraph, START, END\n",
    "builder = StateGraph(portfolioState)\n",
    "\n",
    "builder.add_node(\"cal_total_node\", cal_total)\n",
    "builder.add_node(\"convert_to_inr_node\", convert_to_inr)\n",
    "builder.add_node(\"convert_to_eur_node\", convert_to_eur)\n",
    "\n",
    "builder.add_edge(START, \"cal_total_node\")\n",
    "builder.add_conditional_edges(\"cal_total_node\",\n",
    "                              choose_conversion,\n",
    "                              {\n",
    "                                 \"INR\": \"convert_to_inr_node\",\n",
    "                                 \"EUR\": \"convert_to_eur_node\",\n",
    "                              }\n",
    "                            )\n",
    "builder.add_edge(\"convert_to_inr_node\", END)\n",
    "builder.add_edge(\"convert_to_eur_node\", END)\n",
    "\n",
    "graph = builder.compile()"
   ]
  },
  {
   "cell_type": "code",
   "execution_count": 3,
   "id": "516aa31e",
   "metadata": {},
   "outputs": [
    {
     "ename": "ModuleNotFoundError",
     "evalue": "No module named 'langgraph'",
     "output_type": "error",
     "traceback": [
      "\u001b[31m---------------------------------------------------------------------------\u001b[39m",
      "\u001b[31mModuleNotFoundError\u001b[39m                       Traceback (most recent call last)",
      "\u001b[36mCell\u001b[39m\u001b[36m \u001b[39m\u001b[32mIn[3]\u001b[39m\u001b[32m, line 1\u001b[39m\n\u001b[32m----> \u001b[39m\u001b[32m1\u001b[39m \u001b[38;5;28;01mfrom\u001b[39;00m\u001b[38;5;250m \u001b[39m\u001b[34;01mlanggraph\u001b[39;00m\u001b[34;01m.\u001b[39;00m\u001b[34;01mgraph\u001b[39;00m\u001b[38;5;250m \u001b[39m\u001b[38;5;28;01mimport\u001b[39;00m StateGraph\n",
      "\u001b[31mModuleNotFoundError\u001b[39m: No module named 'langgraph'"
     ]
    }
   ],
   "source": [
    "from langgraph.graph import StateGraph"
   ]
  },
  {
   "cell_type": "code",
   "execution_count": 4,
   "id": "5127f62e",
   "metadata": {},
   "outputs": [
    {
     "ename": "NameError",
     "evalue": "name 'graph' is not defined",
     "output_type": "error",
     "traceback": [
      "\u001b[31m---------------------------------------------------------------------------\u001b[39m",
      "\u001b[31mNameError\u001b[39m                                 Traceback (most recent call last)",
      "\u001b[36mCell\u001b[39m\u001b[36m \u001b[39m\u001b[32mIn[4]\u001b[39m\u001b[32m, line 2\u001b[39m\n\u001b[32m      1\u001b[39m \u001b[38;5;28;01mfrom\u001b[39;00m\u001b[38;5;250m \u001b[39m\u001b[34;01mIPython\u001b[39;00m\u001b[34;01m.\u001b[39;00m\u001b[34;01mdisplay\u001b[39;00m\u001b[38;5;250m \u001b[39m\u001b[38;5;28;01mimport\u001b[39;00m Image, display\n\u001b[32m----> \u001b[39m\u001b[32m2\u001b[39m display(Image(\u001b[43mgraph\u001b[49m.get_graph().draw_mermaid_png()))\n",
      "\u001b[31mNameError\u001b[39m: name 'graph' is not defined"
     ]
    }
   ],
   "source": [
    "from IPython.display import Image, display\n",
    "display(Image(graph.get_graph().draw_mermaid_png()))"
   ]
  },
  {
   "cell_type": "code",
   "execution_count": null,
   "id": "8dc97142",
   "metadata": {},
   "outputs": [],
   "source": [
    "graph.invoke({\"amount_usd\": 10000, \"target_currency\": \"EUR\"})"
   ]
  }
 ],
 "metadata": {
  "kernelspec": {
   "display_name": "Python 3",
   "language": "python",
   "name": "python3"
  },
  "language_info": {
   "codemirror_mode": {
    "name": "ipython",
    "version": 3
   },
   "file_extension": ".py",
   "mimetype": "text/x-python",
   "name": "python",
   "nbconvert_exporter": "python",
   "pygments_lexer": "ipython3",
   "version": "3.12.3"
  }
 },
 "nbformat": 4,
 "nbformat_minor": 5
}
